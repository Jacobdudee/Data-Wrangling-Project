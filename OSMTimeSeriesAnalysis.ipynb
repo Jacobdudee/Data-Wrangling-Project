{
 "cells": [
  {
   "cell_type": "markdown",
   "metadata": {},
   "source": [
    "## Analysis of Open Street Map Contributions using Python"
   ]
  },
  {
   "cell_type": "code",
   "execution_count": 3,
   "metadata": {
    "collapsed": true
   },
   "outputs": [],
   "source": [
    "import pandas as pd\n",
    "import numpy as np\n",
    "import datetime\n",
    "import matplotlib.pyplot as plt\n",
    "import matplotlib.dates as dates\n",
    "%matplotlib inline"
   ]
  },
  {
   "cell_type": "markdown",
   "metadata": {},
   "source": [
    "To get a good idea of the user data and contributions over time, I will look at the nodes and ways csv files that were wrangled above, loaded into pandas dataframes."
   ]
  },
  {
   "cell_type": "code",
   "execution_count": 4,
   "metadata": {
    "collapsed": true
   },
   "outputs": [],
   "source": [
    "nodes = pd.read_csv(\"nodes.csv\",parse_dates=['timestamp'])\n",
    "ways = pd.read_csv(\"ways.csv\",parse_dates=['timestamp'])\n",
    "nodes_tags = pd.read_csv(\"nodes_tags.csv\")\n",
    "ways_tags = pd.read_csv(\"ways_tags.csv\")"
   ]
  },
  {
   "cell_type": "code",
   "execution_count": 5,
   "metadata": {
    "collapsed": false
   },
   "outputs": [
    {
     "data": {
      "text/html": [
       "<div>\n",
       "<table border=\"1\" class=\"dataframe\">\n",
       "  <thead>\n",
       "    <tr style=\"text-align: right;\">\n",
       "      <th></th>\n",
       "      <th>id</th>\n",
       "      <th>lat</th>\n",
       "      <th>lon</th>\n",
       "      <th>user</th>\n",
       "      <th>uid</th>\n",
       "      <th>version</th>\n",
       "      <th>changeset</th>\n",
       "      <th>timestamp</th>\n",
       "    </tr>\n",
       "  </thead>\n",
       "  <tbody>\n",
       "    <tr>\n",
       "      <th>0</th>\n",
       "      <td>668163</td>\n",
       "      <td>34.008857</td>\n",
       "      <td>-118.058493</td>\n",
       "      <td>jerjozwik</td>\n",
       "      <td>36489</td>\n",
       "      <td>15</td>\n",
       "      <td>786030</td>\n",
       "      <td>2009-03-11 05:05:27</td>\n",
       "    </tr>\n",
       "    <tr>\n",
       "      <th>1</th>\n",
       "      <td>668164</td>\n",
       "      <td>34.007498</td>\n",
       "      <td>-118.060141</td>\n",
       "      <td>jerjozwik</td>\n",
       "      <td>36489</td>\n",
       "      <td>15</td>\n",
       "      <td>786030</td>\n",
       "      <td>2009-03-11 05:05:27</td>\n",
       "    </tr>\n",
       "    <tr>\n",
       "      <th>2</th>\n",
       "      <td>668165</td>\n",
       "      <td>34.002680</td>\n",
       "      <td>-118.065926</td>\n",
       "      <td>Sundance</td>\n",
       "      <td>239998</td>\n",
       "      <td>17</td>\n",
       "      <td>5070451</td>\n",
       "      <td>2010-06-25 00:11:24</td>\n",
       "    </tr>\n",
       "    <tr>\n",
       "      <th>3</th>\n",
       "      <td>668166</td>\n",
       "      <td>34.001222</td>\n",
       "      <td>-118.067053</td>\n",
       "      <td>Sundance</td>\n",
       "      <td>239998</td>\n",
       "      <td>18</td>\n",
       "      <td>5070451</td>\n",
       "      <td>2010-06-25 00:11:24</td>\n",
       "    </tr>\n",
       "    <tr>\n",
       "      <th>4</th>\n",
       "      <td>668167</td>\n",
       "      <td>33.999830</td>\n",
       "      <td>-118.067737</td>\n",
       "      <td>Sundance</td>\n",
       "      <td>239998</td>\n",
       "      <td>16</td>\n",
       "      <td>5070451</td>\n",
       "      <td>2010-06-25 00:11:24</td>\n",
       "    </tr>\n",
       "  </tbody>\n",
       "</table>\n",
       "</div>"
      ],
      "text/plain": [
       "       id        lat         lon       user     uid  version  changeset  \\\n",
       "0  668163  34.008857 -118.058493  jerjozwik   36489       15     786030   \n",
       "1  668164  34.007498 -118.060141  jerjozwik   36489       15     786030   \n",
       "2  668165  34.002680 -118.065926   Sundance  239998       17    5070451   \n",
       "3  668166  34.001222 -118.067053   Sundance  239998       18    5070451   \n",
       "4  668167  33.999830 -118.067737   Sundance  239998       16    5070451   \n",
       "\n",
       "            timestamp  \n",
       "0 2009-03-11 05:05:27  \n",
       "1 2009-03-11 05:05:27  \n",
       "2 2010-06-25 00:11:24  \n",
       "3 2010-06-25 00:11:24  \n",
       "4 2010-06-25 00:11:24  "
      ]
     },
     "execution_count": 5,
     "metadata": {},
     "output_type": "execute_result"
    }
   ],
   "source": [
    "nodes.head()"
   ]
  },
  {
   "cell_type": "code",
   "execution_count": 6,
   "metadata": {
    "collapsed": false
   },
   "outputs": [
    {
     "data": {
      "text/html": [
       "<div>\n",
       "<table border=\"1\" class=\"dataframe\">\n",
       "  <thead>\n",
       "    <tr style=\"text-align: right;\">\n",
       "      <th></th>\n",
       "      <th>id</th>\n",
       "      <th>key</th>\n",
       "      <th>value</th>\n",
       "      <th>type</th>\n",
       "    </tr>\n",
       "  </thead>\n",
       "  <tbody>\n",
       "    <tr>\n",
       "      <th>0</th>\n",
       "      <td>13254889</td>\n",
       "      <td>name</td>\n",
       "      <td>Las Lomitas Drive</td>\n",
       "      <td>regular</td>\n",
       "    </tr>\n",
       "    <tr>\n",
       "      <th>1</th>\n",
       "      <td>13254889</td>\n",
       "      <td>highway</td>\n",
       "      <td>tertiary</td>\n",
       "      <td>regular</td>\n",
       "    </tr>\n",
       "    <tr>\n",
       "      <th>2</th>\n",
       "      <td>13254889</td>\n",
       "      <td>cfcc</td>\n",
       "      <td>A41</td>\n",
       "      <td>tiger</td>\n",
       "    </tr>\n",
       "    <tr>\n",
       "      <th>3</th>\n",
       "      <td>13254889</td>\n",
       "      <td>county</td>\n",
       "      <td>Los Angeles, CA</td>\n",
       "      <td>tiger</td>\n",
       "    </tr>\n",
       "    <tr>\n",
       "      <th>4</th>\n",
       "      <td>13254889</td>\n",
       "      <td>reviewed</td>\n",
       "      <td>no</td>\n",
       "      <td>tiger</td>\n",
       "    </tr>\n",
       "  </tbody>\n",
       "</table>\n",
       "</div>"
      ],
      "text/plain": [
       "         id       key              value     type\n",
       "0  13254889      name  Las Lomitas Drive  regular\n",
       "1  13254889   highway           tertiary  regular\n",
       "2  13254889      cfcc                A41    tiger\n",
       "3  13254889    county    Los Angeles, CA    tiger\n",
       "4  13254889  reviewed                 no    tiger"
      ]
     },
     "execution_count": 6,
     "metadata": {},
     "output_type": "execute_result"
    }
   ],
   "source": [
    "ways_tags.head()"
   ]
  },
  {
   "cell_type": "code",
   "execution_count": 7,
   "metadata": {
    "collapsed": false
   },
   "outputs": [
    {
     "name": "stdout",
     "output_type": "stream",
     "text": [
      "<class 'pandas.core.frame.DataFrame'>\n",
      "RangeIndex: 914475 entries, 0 to 914474\n",
      "Data columns (total 8 columns):\n",
      "id           914475 non-null int64\n",
      "lat          914475 non-null float64\n",
      "lon          914475 non-null float64\n",
      "user         914475 non-null object\n",
      "uid          914475 non-null int64\n",
      "version      914475 non-null int64\n",
      "changeset    914475 non-null int64\n",
      "timestamp    914475 non-null datetime64[ns]\n",
      "dtypes: datetime64[ns](1), float64(2), int64(4), object(1)\n",
      "memory usage: 55.8+ MB\n"
     ]
    }
   ],
   "source": [
    "nodes.info()"
   ]
  },
  {
   "cell_type": "code",
   "execution_count": 8,
   "metadata": {
    "collapsed": false
   },
   "outputs": [
    {
     "name": "stdout",
     "output_type": "stream",
     "text": [
      "<class 'pandas.core.frame.DataFrame'>\n",
      "RangeIndex: 89337 entries, 0 to 89336\n",
      "Data columns (total 6 columns):\n",
      "id           89337 non-null int64\n",
      "user         89337 non-null object\n",
      "uid          89337 non-null int64\n",
      "version      89337 non-null int64\n",
      "changeset    89337 non-null int64\n",
      "timestamp    89337 non-null datetime64[ns]\n",
      "dtypes: datetime64[ns](1), int64(4), object(1)\n",
      "memory usage: 4.1+ MB\n"
     ]
    }
   ],
   "source": [
    "ways.info()"
   ]
  },
  {
   "cell_type": "markdown",
   "metadata": {},
   "source": [
    "The Nodes file contains information on OSM nodes, and the ways the OSM ways. What I am interested in doing here is getting the data into a time series format, then plot contributions over time.\n",
    "\n",
    "To do this, I will group each data frame by their timestamp to count the contributions by timestamp. This will result in both data frames being a format that will making joining them easy."
   ]
  },
  {
   "cell_type": "markdown",
   "metadata": {},
   "source": [
    "### Time Series Analysis"
   ]
  },
  {
   "cell_type": "code",
   "execution_count": 9,
   "metadata": {
    "collapsed": false
   },
   "outputs": [
    {
     "data": {
      "text/html": [
       "<div>\n",
       "<table border=\"1\" class=\"dataframe\">\n",
       "  <thead>\n",
       "    <tr style=\"text-align: right;\">\n",
       "      <th></th>\n",
       "      <th>date</th>\n",
       "      <th>count</th>\n",
       "    </tr>\n",
       "    <tr>\n",
       "      <th>date</th>\n",
       "      <th></th>\n",
       "      <th></th>\n",
       "    </tr>\n",
       "  </thead>\n",
       "  <tbody>\n",
       "    <tr>\n",
       "      <th>2017-02-02 20:31:57</th>\n",
       "      <td>2017-02-02 20:31:57</td>\n",
       "      <td>178</td>\n",
       "    </tr>\n",
       "    <tr>\n",
       "      <th>2017-02-02 20:32:01</th>\n",
       "      <td>2017-02-02 20:32:01</td>\n",
       "      <td>174</td>\n",
       "    </tr>\n",
       "    <tr>\n",
       "      <th>2017-02-02 20:31:56</th>\n",
       "      <td>2017-02-02 20:31:56</td>\n",
       "      <td>173</td>\n",
       "    </tr>\n",
       "    <tr>\n",
       "      <th>2017-02-02 20:32:00</th>\n",
       "      <td>2017-02-02 20:32:00</td>\n",
       "      <td>173</td>\n",
       "    </tr>\n",
       "    <tr>\n",
       "      <th>2017-02-02 20:31:59</th>\n",
       "      <td>2017-02-02 20:31:59</td>\n",
       "      <td>172</td>\n",
       "    </tr>\n",
       "  </tbody>\n",
       "</table>\n",
       "</div>"
      ],
      "text/plain": [
       "                                   date  count\n",
       "date                                          \n",
       "2017-02-02 20:31:57 2017-02-02 20:31:57    178\n",
       "2017-02-02 20:32:01 2017-02-02 20:32:01    174\n",
       "2017-02-02 20:31:56 2017-02-02 20:31:56    173\n",
       "2017-02-02 20:32:00 2017-02-02 20:32:00    173\n",
       "2017-02-02 20:31:59 2017-02-02 20:31:59    172"
      ]
     },
     "execution_count": 9,
     "metadata": {},
     "output_type": "execute_result"
    }
   ],
   "source": [
    "#getting the grouped contribution counts (by timestamp) and then resetting the index\n",
    "time_series = pd.DataFrame(nodes['timestamp'].value_counts().reset_index())\n",
    "time_series_ways = pd.DataFrame(ways['timestamp'].value_counts().reset_index())\n",
    "\n",
    "#setting column names\n",
    "time_series.columns = ['date', 'count']\n",
    "time_series_ways.columns = ['date', 'count']\n",
    "\n",
    "#joining the ways and nodes dataframes\n",
    "time_series = time_series.append(time_series_ways)\n",
    "\n",
    "#setting the index as the data\n",
    "time_series.set_index(time_series[\"date\"],inplace=True)\n",
    "\n",
    "#summing the counts by week/Day\n",
    "#time_series = time_series.resample(\"D\").sum()\n",
    "#time_series['date'] = time_series.index\n",
    "\n",
    "#filling in the null values with 0\n",
    "time_series['count'].fillna(0,inplace=True)\n",
    "\n",
    "time_series.head()"
   ]
  },
  {
   "cell_type": "code",
   "execution_count": 10,
   "metadata": {
    "collapsed": false
   },
   "outputs": [
    {
     "data": {
      "text/plain": [
       "True"
      ]
     },
     "execution_count": 10,
     "metadata": {},
     "output_type": "execute_result"
    }
   ],
   "source": [
    "#verifying the counts equal the amount of rows of the dataset\n",
    "time_series['count'].sum() == (nodes.shape[0] + ways.shape[0])"
   ]
  },
  {
   "cell_type": "code",
   "execution_count": 11,
   "metadata": {
    "collapsed": false
   },
   "outputs": [
    {
     "name": "stdout",
     "output_type": "stream",
     "text": [
      "<class 'pandas.core.frame.DataFrame'>\n",
      "DatetimeIndex: 34403 entries, 2017-02-02 20:31:57 to 2015-07-09 15:17:20\n",
      "Data columns (total 2 columns):\n",
      "date     34403 non-null datetime64[ns]\n",
      "count    34403 non-null int64\n",
      "dtypes: datetime64[ns](1), int64(1)\n",
      "memory usage: 806.3 KB\n"
     ]
    }
   ],
   "source": [
    "#Looking at new table\n",
    "time_series.info()"
   ]
  },
  {
   "cell_type": "markdown",
   "metadata": {},
   "source": [
    "There are 34403 different timestamps. Let's take a look at the date range."
   ]
  },
  {
   "cell_type": "code",
   "execution_count": 12,
   "metadata": {
    "collapsed": false
   },
   "outputs": [
    {
     "name": "stdout",
     "output_type": "stream",
     "text": [
      "max: 2007-11-18 21:16:53 min: 2017-10-21 10:44:06\n"
     ]
    }
   ],
   "source": [
    "print \"max:\",time_series.index.min(), \"min:\",time_series.index.max()\n"
   ]
  },
  {
   "cell_type": "markdown",
   "metadata": {},
   "source": [
    "The dataset has contributions from November 2007 to October 2017, when I started this project."
   ]
  },
  {
   "cell_type": "code",
   "execution_count": 13,
   "metadata": {
    "collapsed": false
   },
   "outputs": [
    {
     "data": {
      "text/html": [
       "<div>\n",
       "<table border=\"1\" class=\"dataframe\">\n",
       "  <thead>\n",
       "    <tr style=\"text-align: right;\">\n",
       "      <th></th>\n",
       "      <th>count</th>\n",
       "    </tr>\n",
       "  </thead>\n",
       "  <tbody>\n",
       "    <tr>\n",
       "      <th>count</th>\n",
       "      <td>34403.000000</td>\n",
       "    </tr>\n",
       "    <tr>\n",
       "      <th>mean</th>\n",
       "      <td>29.178037</td>\n",
       "    </tr>\n",
       "    <tr>\n",
       "      <th>std</th>\n",
       "      <td>31.625567</td>\n",
       "    </tr>\n",
       "    <tr>\n",
       "      <th>min</th>\n",
       "      <td>1.000000</td>\n",
       "    </tr>\n",
       "    <tr>\n",
       "      <th>25%</th>\n",
       "      <td>5.000000</td>\n",
       "    </tr>\n",
       "    <tr>\n",
       "      <th>50%</th>\n",
       "      <td>8.000000</td>\n",
       "    </tr>\n",
       "    <tr>\n",
       "      <th>75%</th>\n",
       "      <td>63.000000</td>\n",
       "    </tr>\n",
       "    <tr>\n",
       "      <th>max</th>\n",
       "      <td>178.000000</td>\n",
       "    </tr>\n",
       "  </tbody>\n",
       "</table>\n",
       "</div>"
      ],
      "text/plain": [
       "              count\n",
       "count  34403.000000\n",
       "mean      29.178037\n",
       "std       31.625567\n",
       "min        1.000000\n",
       "25%        5.000000\n",
       "50%        8.000000\n",
       "75%       63.000000\n",
       "max      178.000000"
      ]
     },
     "execution_count": 13,
     "metadata": {},
     "output_type": "execute_result"
    }
   ],
   "source": [
    "#Analyzing distributions\n",
    "time_series.describe()"
   ]
  },
  {
   "cell_type": "markdown",
   "metadata": {},
   "source": [
    "The new dataset has 34403 rows, with a mean of 29 contributions, and a max of 178 contributions."
   ]
  },
  {
   "cell_type": "markdown",
   "metadata": {},
   "source": [
    "### Time Series EDA"
   ]
  },
  {
   "cell_type": "code",
   "execution_count": 15,
   "metadata": {
    "collapsed": false
   },
   "outputs": [
    {
     "data": {
      "image/png": "[encoded data removed]",
      "text/plain": [
       "<matplotlib.figure.Figure at 0x1199ebed0>"
      ]
     },
     "metadata": {},
     "output_type": "display_data"
    }
   ],
   "source": [
    "time_series.sort_index(inplace=True)\n",
    "#time_series\n",
    "ax = plt.subplot(111)\n",
    "ax.bar(time_series.index, time_series['count'],width=10)\n",
    "plt.ylabel(\"Count\")\n",
    "plt.xlabel(\"Date\")\n",
    "plt.title(\"Contributions to the Whittier Area by Timestamp\")\n",
    "ax.xaxis_date()"
   ]
  },
  {
   "cell_type": "markdown",
   "metadata": {},
   "source": [
    "We see that contributions to the Whittier area increased over time, with a large spike in 2017. The max number of contributions occured in this area as well. \n"
   ]
  },
  {
   "cell_type": "code",
   "execution_count": 16,
   "metadata": {
    "collapsed": false
   },
   "outputs": [
    {
     "data": {
      "image/png": "[encoded data removed]",
      "text/plain": [
       "<matplotlib.figure.Figure at 0x11a0e7a90>"
      ]
     },
     "metadata": {},
     "output_type": "display_data"
    }
   ],
   "source": [
    "time_series = time_series.sort_values('date', ascending=True)\n",
    "\n",
    "#summing the counts by week/Day\n",
    "time_week = time_series.resample(\"D\").sum()\n",
    "\n",
    "#plt.figure(figsize=(12,6))\n",
    "plt.style.use(\"ggplot\")\n",
    "#plt.bar(bottom=time_week.index, height=time_week['count'],data=time_week)\n",
    "#plt.xticks(rotation=45)\n",
    "plt.ylabel(\"Contribution Count\")\n",
    "plt.title(\"Contributions to the Whittier Area by Day\")\n",
    "\n",
    "ax = plt.subplot(111)\n",
    "#ax.bar(x, y, width=10)\n",
    "ax.bar(time_week.index,time_week['count'],width=10)\n",
    "ax.xaxis_date()"
   ]
  },
  {
   "cell_type": "markdown",
   "metadata": {},
   "source": [
    "The most of the contributions came from what looks like 2 days, one in late 2016 and the other in early 2017. I think that the la_buildings users could be involved here. Let's see.\n",
    "    "
   ]
  },
  {
   "cell_type": "code",
   "execution_count": 17,
   "metadata": {
    "collapsed": false
   },
   "outputs": [
    {
     "data": {
      "text/plain": [
       "calfarome_labuilding      193629\n",
       "yurasi_import             159068\n",
       "piligab_labuildings       117942\n",
       "RichRico_labuildings      109861\n",
       "ridixcr_import             83508\n",
       "manoharuss_imports         65250\n",
       "Jothirnadh_labuildings     63802\n",
       "dannykath_labuildings      40427\n",
       "karitotp_labuildings       33333\n",
       "Luis36995_labuildings       9431\n",
       "Name: user, dtype: int64"
      ]
     },
     "execution_count": 17,
     "metadata": {},
     "output_type": "execute_result"
    }
   ],
   "source": [
    "nodes[(nodes['timestamp'].dt.year == 2017) |\n",
    "      (nodes['timestamp'].dt.year == 2016)]['user'].value_counts().head(10)"
   ]
  },
  {
   "cell_type": "code",
   "execution_count": 18,
   "metadata": {
    "collapsed": false
   },
   "outputs": [
    {
     "data": {
      "text/plain": [
       "calfarome_labuilding      17044\n",
       "yurasi_import             14501\n",
       "RichRico_labuildings      11527\n",
       "piligab_labuildings       11093\n",
       "ridixcr_import             8392\n",
       "manoharuss_imports         6133\n",
       "Jothirnadh_labuildings     4745\n",
       "dannykath_labuildings      3934\n",
       "karitotp_labuildings       3348\n",
       "RichRico                    816\n",
       "Name: user, dtype: int64"
      ]
     },
     "execution_count": 18,
     "metadata": {},
     "output_type": "execute_result"
    }
   ],
   "source": [
    "ways[(ways['timestamp'].dt.year == 2017) |\n",
    "      (ways['timestamp'].dt.year == 2016)]['user'].value_counts().head(10)"
   ]
  },
  {
   "cell_type": "markdown",
   "metadata": {},
   "source": [
    "Sure enough, the top users here are la_buiildings and _imports users. \n",
    "\n",
    "Let's now create a function that flags these users, then plot them compared to all contributions across time. "
   ]
  },
  {
   "cell_type": "markdown",
   "metadata": {},
   "source": [
    "### Analyzing contributions from _labuilding and _imports users"
   ]
  },
  {
   "cell_type": "code",
   "execution_count": 19,
   "metadata": {
    "collapsed": true
   },
   "outputs": [],
   "source": [
    "import re\n",
    "\n",
    "def islab(string):\n",
    "    if re.search(pattern=\"_labuilding\", string=str(string)):\n",
    "        return 1\n",
    "    elif re.search(pattern=\"_imports\", string=str(string)):\n",
    "        return 1\n",
    "    else:\n",
    "        return 0"
   ]
  },
  {
   "cell_type": "markdown",
   "metadata": {},
   "source": [
    "Testing the new function:"
   ]
  },
  {
   "cell_type": "code",
   "execution_count": 20,
   "metadata": {
    "collapsed": false
   },
   "outputs": [
    {
     "data": {
      "text/plain": [
       "1"
      ]
     },
     "execution_count": 20,
     "metadata": {},
     "output_type": "execute_result"
    }
   ],
   "source": [
    "islab(\"john_labuilding\")"
   ]
  },
  {
   "cell_type": "code",
   "execution_count": 21,
   "metadata": {
    "collapsed": true
   },
   "outputs": [],
   "source": [
    "#applying function across nodes dataframe\n",
    "nodes['is_lab'] = nodes['user'].apply(lambda x: islab(x))\n",
    "ways['is_lab'] = ways['user'].apply(lambda x: islab(x))\n",
    "\n",
    "#creating dataframes\n",
    "lab = nodes[nodes['is_lab']==1]\n",
    "lab2 = ways[ways['is_lab']==1]"
   ]
  },
  {
   "cell_type": "code",
   "execution_count": 22,
   "metadata": {
    "collapsed": false
   },
   "outputs": [
    {
     "name": "stdout",
     "output_type": "stream",
     "text": [
      "<class 'pandas.core.frame.DataFrame'>\n",
      "Int64Index: 636798 entries, 10391 to 913244\n",
      "Data columns (total 9 columns):\n",
      "id           636798 non-null int64\n",
      "lat          636798 non-null float64\n",
      "lon          636798 non-null float64\n",
      "user         636798 non-null object\n",
      "uid          636798 non-null int64\n",
      "version      636798 non-null int64\n",
      "changeset    636798 non-null int64\n",
      "timestamp    636798 non-null datetime64[ns]\n",
      "is_lab       636798 non-null int64\n",
      "dtypes: datetime64[ns](1), float64(2), int64(5), object(1)\n",
      "memory usage: 48.6+ MB\n"
     ]
    }
   ],
   "source": [
    "lab.info()"
   ]
  },
  {
   "cell_type": "markdown",
   "metadata": {},
   "source": [
    "## Labuildings and imports User Conclusion"
   ]
  },
  {
   "cell_type": "code",
   "execution_count": 23,
   "metadata": {
    "collapsed": false
   },
   "outputs": [
    {
     "name": "stdout",
     "output_type": "stream",
     "text": [
      "Contributions by _labuildings and _imports users\n",
      "('Nodes Contributions:', 636798)\n",
      "('Ways Contributions:', 58988)\n",
      "('Total Contib by above users:', 695786)\n",
      "\n",
      "\n",
      "Total Contributions: 1003812\n",
      "Proportion of contribtions by _labuilding and _imports users:\n",
      "0.693143736078\n"
     ]
    }
   ],
   "source": [
    "print \"Contributions by _labuildings and _imports users\"\n",
    "print(\"Nodes Contributions:\",sum(nodes['is_lab']))\n",
    "print(\"Ways Contributions:\",sum(ways['is_lab']))\n",
    "\n",
    "totalContib = (nodes.shape[0] + ways.shape[0])\n",
    "totalLaContib = (sum(nodes['is_lab']) +sum(ways['is_lab']))\n",
    "print(\"Total Contib by above users:\",totalLaContib)\n",
    "\n",
    "print \"\\n\"\n",
    "print \"Total Contributions:\", totalContib\n",
    "print \"Proportion of contribtions by _labuilding and _imports users:\"\n",
    "print(float(totalLaContib)/totalContib)"
   ]
  },
  {
   "cell_type": "markdown",
   "metadata": {},
   "source": [
    "Indeed, ~70% of the contributions came from 2 of the same sets of users, on 2 different days. This explains the lack of diversity in what has been noted."
   ]
  }
 ],
 "metadata": {
  "kernelspec": {
   "display_name": "Python 2",
   "language": "python",
   "name": "python2"
  },
  "language_info": {
   "codemirror_mode": {
    "name": "ipython",
    "version": 2
   },
   "file_extension": ".py",
   "mimetype": "text/x-python",
   "name": "python",
   "nbconvert_exporter": "python",
   "pygments_lexer": "ipython2",
   "version": "2.7.13"
  }
 },
 "nbformat": 4,
 "nbformat_minor": 2
}
